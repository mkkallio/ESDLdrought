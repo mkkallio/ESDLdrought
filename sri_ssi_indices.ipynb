{
 "cells": [
  {
   "cell_type": "code",
   "execution_count": 3,
   "metadata": {},
   "outputs": [],
   "source": [
    "mypackagepath = \"/home/jovyan/work/workspace/rlib\"\n",
    ".libPaths(c(mypackagepath,.libPaths()))\n",
    "load_libs <- function(packages) {\n",
    "    for(package in packages) {\n",
    "        test <- require(package, character.only=TRUE)\n",
    "        if(!test) {\n",
    "            install.packages(package)\n",
    "            library(package)\n",
    "        }\n",
    "    }\n",
    "}\n",
    "load_libs(c(\"doParallel\", \"foreach\", \"ncdf4\", \"SPEI\"))"
   ]
  },
  {
   "cell_type": "markdown",
   "metadata": {},
   "source": [
    "## Define function to compute the drought index (following SPI methodology)\n",
    "\n",
    "*array* is an array of the variable of interest with a global extent, *months* is the time period SPI is counted for, *resolution* is the resolution of the global array, *filename* specifies the filename of the output netcdf, and *ncores* is the number of cores used for parallelization."
   ]
  },
  {
   "cell_type": "code",
   "execution_count": 11,
   "metadata": {},
   "outputs": [],
   "source": [
    "# requires a global array\n",
    "compute_index <- function(array, months, resolution, filename, ncores) {\n",
    "    dims <- dim(array)\n",
    "    message(\"calculating index..\")\n",
    "    registerDoParallel(ncores)\n",
    "    di <- foreach(lon = 1:dims[1]) %dopar% {\n",
    "        output <- foreach(lat = 1:dims[2]) %do% {\n",
    "            if(!sea[lon,lat]){\n",
    "                data <- runoff[lon,lat,]\n",
    "                data <- data[!is.na(data)] \n",
    "                if(length(data) > months ) {\n",
    "                    spi <- spi(data, scale = months, distribution = 'Gamma')\n",
    "                    ret <- spi$fitted\n",
    "                } else {\n",
    "                    ret <- rep(-9999, dims[3])\n",
    "                }\n",
    "            } else {\n",
    "                ret <- NA\n",
    "            }\n",
    "            return(ret)\n",
    "        } \n",
    "        output\n",
    "    }\n",
    "    stopImplicitCluster()\n",
    "    message(\"creating array...\")\n",
    "    \n",
    "    # create array\n",
    "    diarr <- array(NA, dim=dims)\n",
    "    \n",
    "    for(i in seq_along(di)) {\n",
    "        for(j in seq_along(di[[i]])) {\n",
    "            test <- length(di[[i]][[j]]) == dims[3]\n",
    "            if(test) diarr[i,j,] <- di[[i]][[j]]\n",
    "        }\n",
    "    }     \n",
    "    \n",
    "    # write array to nc\n",
    "    message(\"writing netcdf...\")\n",
    "    halfres <- resolution/2\n",
    "    xvals <- seq(-180+halfres, 180-halfres, resolution)\n",
    "    yvals <- seq(-90+halfres, 90-halfres, resolution) \n",
    "    nx <- length(xvals)\n",
    "    ny <- length(yvals)\n",
    "    lon1 <- ncdim_def(\"longitude\", \"degrees_east\", xvals)\n",
    "    lat2 <- ncdim_def(\"latitude\", \"degrees_north\", yvals)\n",
    "    \n",
    "    time <- ncdim_def(\"Time\",\"months\", dims[3], unlim=TRUE)\n",
    "    mv <- -9999 #missing value to use\n",
    "    var_temp <- ncvar_def(\"var\", \"m3/s\", \n",
    "                          list(lon1, lat2, time), \n",
    "                          longname=filename, \n",
    "                          mv) \n",
    "    nc <- nc_create(filename, list(var_temp))\n",
    "    ncvar_put(nc, var_temp, diarr, start=c(1,1,1), count=c(nx,ny,dims[3]))\n",
    "    nc_close(nc)\n",
    "}"
   ]
  },
  {
   "cell_type": "markdown",
   "metadata": {},
   "source": [
    "## Compute SRI and SSI"
   ]
  },
  {
   "cell_type": "code",
   "execution_count": 5,
   "metadata": {},
   "outputs": [],
   "source": [
    "# read in array\n",
    "nc <- nc_open( \"./runoff_global_monthly.nc\"))\n",
    "runoff <- ncvar_get(nc, attributes(nc$var)$names[1])\n",
    "nc_close(nc)"
   ]
  },
  {
   "cell_type": "markdown",
   "metadata": {},
   "source": [
    "Make a mask to speed up computation (we dont need to process cells which have 0's for all timesteps)."
   ]
  },
  {
   "cell_type": "code",
   "execution_count": 6,
   "metadata": {},
   "outputs": [
    {
     "data": {
      "text/plain": [
       "   user  system elapsed \n",
       "  4.812   0.420   5.230 "
      ]
     },
     "metadata": {},
     "output_type": "display_data"
    },
    {
     "data": {
      "image/png": "[encoded data removed]",
      "text/plain": [
       "plot without title"
      ]
     },
     "metadata": {},
     "output_type": "display_data"
    }
   ],
   "source": [
    "system.time( {\n",
    "    sea <- apply(runoff, c(1,2), function(x) all(is.na(x)))\n",
    "})\n",
    "image(sea)"
   ]
  },
  {
   "cell_type": "markdown",
   "metadata": {},
   "source": [
    "Compute drought indices for runoff. "
   ]
  },
  {
   "cell_type": "code",
   "execution_count": 12,
   "metadata": {},
   "outputs": [
    {
     "name": "stdout",
     "output_type": "stream",
     "text": [
      "[1] \"calculating index..\"\n",
      "[1] \"creating array...\"\n",
      "[1] \"writing netcdf...\"\n"
     ]
    },
    {
     "data": {
      "text/plain": [
       "    user   system  elapsed \n",
       "4040.944   84.432  289.457 "
      ]
     },
     "metadata": {},
     "output_type": "display_data"
    },
    {
     "name": "stdout",
     "output_type": "stream",
     "text": [
      "[1] \"calculating index..\"\n",
      "[1] \"creating array...\"\n",
      "[1] \"writing netcdf...\"\n"
     ]
    },
    {
     "data": {
      "text/plain": [
       "    user   system  elapsed \n",
       "4135.568  140.868  307.445 "
      ]
     },
     "metadata": {},
     "output_type": "display_data"
    }
   ],
   "source": [
    "system.time(compute_index(runoff, 3, 0.25, \"sri3_monthly_025.nc\", 15)) # ~ 5minutes with 15 cores\n",
    "system.time(compute_index(runoff, 12, 0.25, \"sri12_monthly_025.nc\", 15))"
   ]
  },
  {
   "cell_type": "code",
   "execution_count": 13,
   "metadata": {},
   "outputs": [
    {
     "name": "stdout",
     "output_type": "stream",
     "text": [
      "[1] \"calculating index..\"\n",
      "[1] \"creating array...\"\n",
      "[1] \"writing netcdf...\"\n",
      "[1] \"calculating index..\"\n",
      "[1] \"creating array...\"\n",
      "[1] \"writing netcdf...\"\n"
     ]
    }
   ],
   "source": [
    "# read in array\n",
    "nc <- nc_open(paste0(base_url, \"discharge_global_monthly.nc\"))\n",
    "runoff <- ncvar_get(nc, attributes(nc$var)$names[1])\n",
    "nc_close(nc)\n",
    "\n",
    "compute_index(runoff, 3, 0.25, \"ssi3_monthly_0.25.nc\", 15)\n",
    "compute_index(runoff, 12, 0.25, \"ssi12_monthly_0.25.nc\", 15)"
   ]
  }
 ],
 "metadata": {
  "kernelspec": {
   "display_name": "R",
   "language": "R",
   "name": "ir"
  },
  "language_info": {
   "codemirror_mode": "r",
   "file_extension": ".r",
   "mimetype": "text/x-r-source",
   "name": "R",
   "pygments_lexer": "r",
   "version": "3.5.1"
  }
 },
 "nbformat": 4,
 "nbformat_minor": 2
}
