{
 "cells": [
  {
   "cell_type": "code",
   "execution_count": 1,
   "metadata": {},
   "outputs": [],
   "source": [
    "import multiprocessing as mp  \n",
    "import time\n",
    "import numpy as np\n",
    "import pandas as pd\n",
    "import matplotlib.pyplot as plt\n",
    "import scipy.stats\n",
    "from ipywidgets import interact, fixed, DatePicker\n",
    "import warnings\n",
    "warnings.filterwarnings('ignore')\n",
    "warnings.simplefilter('ignore')\n",
    "import xarray as xr\n",
    "from dask.diagnostics import ProgressBar\n",
    "#from mpl_toolkits.basemap import Basemap"
   ]
  },
  {
   "cell_type": "code",
   "execution_count": 2,
   "metadata": {},
   "outputs": [],
   "source": [
    "ESDC = xr.open_zarr('/home/jovyan/work/datacube/ESDCv2.0.0/esdc-8d-0.25deg-184x90x90-2.0.0.zarr', auto_chunk = True)"
   ]
  },
  {
   "cell_type": "code",
   "execution_count": 3,
   "metadata": {},
   "outputs": [
    {
     "data": {
      "text/plain": [
       "<xarray.Dataset>\n",
       "Dimensions:                            (bnds: 2, lat: 720, lon: 1440, time: 1702)\n",
       "Coordinates:\n",
       "  * lat                                (lat) float32 89.875 89.625 ... -89.875\n",
       "    lat_bnds                           (lat, bnds) float32 dask.array<shape=(720, 2), chunksize=(90, 2)>\n",
       "  * lon                                (lon) float32 -179.875 ... 179.875\n",
       "    lon_bnds                           (lon, bnds) float32 dask.array<shape=(1440, 2), chunksize=(90, 2)>\n",
       "  * time                               (time) datetime64[ns] 1980-01-05 ... 2016-12-30\n",
       "    time_bnds                          (time, bnds) datetime64[ns] dask.array<shape=(1702, 2), chunksize=(184, 2)>\n",
       "Dimensions without coordinates: bnds\n",
       "Data variables:\n",
       "    Rg                                 (time, lat, lon) float32 dask.array<shape=(1702, 720, 1440), chunksize=(184, 90, 90)>\n",
       "    aerosol_optical_thickness_1600     (time, lat, lon) float32 dask.array<shape=(1702, 720, 1440), chunksize=(184, 90, 90)>\n",
       "    aerosol_optical_thickness_550      (time, lat, lon) float32 dask.array<shape=(1702, 720, 1440), chunksize=(184, 90, 90)>\n",
       "    aerosol_optical_thickness_670      (time, lat, lon) float32 dask.array<shape=(1702, 720, 1440), chunksize=(184, 90, 90)>\n",
       "    aerosol_optical_thickness_870      (time, lat, lon) float32 dask.array<shape=(1702, 720, 1440), chunksize=(184, 90, 90)>\n",
       "    air_temperature_2m                 (time, lat, lon) float32 dask.array<shape=(1702, 720, 1440), chunksize=(184, 90, 90)>\n",
       "    analysed_sst                       (time, lat, lon) float32 dask.array<shape=(1702, 720, 1440), chunksize=(184, 90, 90)>\n",
       "    bare_soil_evaporation              (time, lat, lon) float32 dask.array<shape=(1702, 720, 1440), chunksize=(184, 90, 90)>\n",
       "    black_sky_albedo                   (time, lat, lon) float32 dask.array<shape=(1702, 720, 1440), chunksize=(184, 90, 90)>\n",
       "    black_sky_albedo_avhrr             (time, lat, lon) float32 dask.array<shape=(1702, 720, 1440), chunksize=(184, 90, 90)>\n",
       "    burnt_area                         (time, lat, lon) float32 dask.array<shape=(1702, 720, 1440), chunksize=(184, 90, 90)>\n",
       "    c_emissions                        (time, lat, lon) float32 dask.array<shape=(1702, 720, 1440), chunksize=(184, 90, 90)>\n",
       "    cee                                (time, lat, lon) float32 dask.array<shape=(1702, 720, 1440), chunksize=(184, 90, 90)>\n",
       "    cer                                (time, lat, lon) float32 dask.array<shape=(1702, 720, 1440), chunksize=(184, 90, 90)>\n",
       "    cfc                                (time, lat, lon) float32 dask.array<shape=(1702, 720, 1440), chunksize=(184, 90, 90)>\n",
       "    chlor_a                            (time, lat, lon) float32 dask.array<shape=(1702, 720, 1440), chunksize=(184, 90, 90)>\n",
       "    cot                                (time, lat, lon) float32 dask.array<shape=(1702, 720, 1440), chunksize=(184, 90, 90)>\n",
       "    country_mask                       (time, lat, lon) float64 dask.array<shape=(1702, 720, 1440), chunksize=(184, 90, 90)>\n",
       "    cph                                (time, lat, lon) float32 dask.array<shape=(1702, 720, 1440), chunksize=(184, 90, 90)>\n",
       "    cth                                (time, lat, lon) float32 dask.array<shape=(1702, 720, 1440), chunksize=(184, 90, 90)>\n",
       "    ctp                                (time, lat, lon) float32 dask.array<shape=(1702, 720, 1440), chunksize=(184, 90, 90)>\n",
       "    ctt                                (time, lat, lon) float32 dask.array<shape=(1702, 720, 1440), chunksize=(184, 90, 90)>\n",
       "    evaporation                        (time, lat, lon) float32 dask.array<shape=(1702, 720, 1440), chunksize=(184, 90, 90)>\n",
       "    evaporative_stress                 (time, lat, lon) float32 dask.array<shape=(1702, 720, 1440), chunksize=(184, 90, 90)>\n",
       "    fapar_tip                          (time, lat, lon) float32 dask.array<shape=(1702, 720, 1440), chunksize=(184, 90, 90)>\n",
       "    fat_c                              (time, lat, lon) float32 dask.array<shape=(1702, 720, 1440), chunksize=(184, 90, 90)>\n",
       "    fat_p                              (time, lat, lon) float32 dask.array<shape=(1702, 720, 1440), chunksize=(184, 90, 90)>\n",
       "    flt_c                              (time, lat, lon) float32 dask.array<shape=(1702, 720, 1440), chunksize=(184, 90, 90)>\n",
       "    flt_p                              (time, lat, lon) float32 dask.array<shape=(1702, 720, 1440), chunksize=(184, 90, 90)>\n",
       "    fractional_snow_cover              (time, lat, lon) float32 dask.array<shape=(1702, 720, 1440), chunksize=(184, 90, 90)>\n",
       "    free_fat_c                         (time, lat, lon) float32 dask.array<shape=(1702, 720, 1440), chunksize=(184, 90, 90)>\n",
       "    free_flt_c                         (time, lat, lon) float32 dask.array<shape=(1702, 720, 1440), chunksize=(184, 90, 90)>\n",
       "    free_lrt_c                         (time, lat, lon) float32 dask.array<shape=(1702, 720, 1440), chunksize=(184, 90, 90)>\n",
       "    free_msr_flt                       (time, lat, lon) float32 dask.array<shape=(1702, 720, 1440), chunksize=(184, 90, 90)>\n",
       "    free_msr_lrt                       (time, lat, lon) float32 dask.array<shape=(1702, 720, 1440), chunksize=(184, 90, 90)>\n",
       "    gross_primary_productivity         (time, lat, lon) float32 dask.array<shape=(1702, 720, 1440), chunksize=(184, 90, 90)>\n",
       "    interception_loss                  (time, lat, lon) float32 dask.array<shape=(1702, 720, 1440), chunksize=(184, 90, 90)>\n",
       "    iwp                                (time, lat, lon) float32 dask.array<shape=(1702, 720, 1440), chunksize=(184, 90, 90)>\n",
       "    land_surface_temperature           (time, lat, lon) float32 dask.array<shape=(1702, 720, 1440), chunksize=(184, 90, 90)>\n",
       "    latent_energy                      (time, lat, lon) float32 dask.array<shape=(1702, 720, 1440), chunksize=(184, 90, 90)>\n",
       "    leaf_area_index                    (time, lat, lon) float32 dask.array<shape=(1702, 720, 1440), chunksize=(184, 90, 90)>\n",
       "    lrt_c                              (time, lat, lon) float32 dask.array<shape=(1702, 720, 1440), chunksize=(184, 90, 90)>\n",
       "    lrt_p                              (time, lat, lon) float32 dask.array<shape=(1702, 720, 1440), chunksize=(184, 90, 90)>\n",
       "    lwp                                (time, lat, lon) float32 dask.array<shape=(1702, 720, 1440), chunksize=(184, 90, 90)>\n",
       "    mask                               (time, lat, lon) float32 dask.array<shape=(1702, 720, 1440), chunksize=(184, 90, 90)>\n",
       "    max_air_temperature_2m             (time, lat, lon) float32 dask.array<shape=(1702, 720, 1440), chunksize=(184, 90, 90)>\n",
       "    min_air_temperature_2m             (time, lat, lon) float32 dask.array<shape=(1702, 720, 1440), chunksize=(184, 90, 90)>\n",
       "    msr_flt                            (time, lat, lon) float32 dask.array<shape=(1702, 720, 1440), chunksize=(184, 90, 90)>\n",
       "    msr_lrt                            (time, lat, lon) float32 dask.array<shape=(1702, 720, 1440), chunksize=(184, 90, 90)>\n",
       "    net_ecosystem_exchange             (time, lat, lon) float32 dask.array<shape=(1702, 720, 1440), chunksize=(184, 90, 90)>\n",
       "    net_radiation                      (time, lat, lon) float32 dask.array<shape=(1702, 720, 1440), chunksize=(184, 90, 90)>\n",
       "    open_water_evaporation             (time, lat, lon) float32 dask.array<shape=(1702, 720, 1440), chunksize=(184, 90, 90)>\n",
       "    ozone                              (time, lat, lon) float32 dask.array<shape=(1702, 720, 1440), chunksize=(184, 90, 90)>\n",
       "    par                                (time, lat, lon) float32 dask.array<shape=(1702, 720, 1440), chunksize=(184, 90, 90)>\n",
       "    pardiff                            (time, lat, lon) float32 dask.array<shape=(1702, 720, 1440), chunksize=(184, 90, 90)>\n",
       "    potential_evaporation              (time, lat, lon) float32 dask.array<shape=(1702, 720, 1440), chunksize=(184, 90, 90)>\n",
       "    precipitation                      (time, lat, lon) float32 dask.array<shape=(1702, 720, 1440), chunksize=(184, 90, 90)>\n",
       "    precipitation_era5                 (time, lat, lon) float32 dask.array<shape=(1702, 720, 1440), chunksize=(184, 90, 90)>\n",
       "    psurf                              (time, lat, lon) float32 dask.array<shape=(1702, 720, 1440), chunksize=(184, 90, 90)>\n",
       "    root_moisture                      (time, lat, lon) float32 dask.array<shape=(1702, 720, 1440), chunksize=(184, 90, 90)>\n",
       "    sea_ice_fraction                   (time, lat, lon) float32 dask.array<shape=(1702, 720, 1440), chunksize=(184, 90, 90)>\n",
       "    sensible_heat                      (time, lat, lon) float32 dask.array<shape=(1702, 720, 1440), chunksize=(184, 90, 90)>\n",
       "    snow_sublimation                   (time, lat, lon) float32 dask.array<shape=(1702, 720, 1440), chunksize=(184, 90, 90)>\n",
       "    snow_water_equivalent              (time, lat, lon) float32 dask.array<shape=(1702, 720, 1440), chunksize=(184, 90, 90)>\n",
       "    soil_moisture                      (time, lat, lon) float32 dask.array<shape=(1702, 720, 1440), chunksize=(184, 90, 90)>\n",
       "    srex_mask                          (time, lat, lon) float32 dask.array<shape=(1702, 720, 1440), chunksize=(184, 90, 90)>\n",
       "    stemp                              (time, lat, lon) float32 dask.array<shape=(1702, 720, 1440), chunksize=(184, 90, 90)>\n",
       "    surface_moisture                   (time, lat, lon) float32 dask.array<shape=(1702, 720, 1440), chunksize=(184, 90, 90)>\n",
       "    terrestrial_ecosystem_respiration  (time, lat, lon) float32 dask.array<shape=(1702, 720, 1440), chunksize=(184, 90, 90)>\n",
       "    totcol_assim                       (time, lat, lon) float32 dask.array<shape=(1702, 720, 1440), chunksize=(184, 90, 90)>\n",
       "    totcol_free                        (time, lat, lon) float32 dask.array<shape=(1702, 720, 1440), chunksize=(184, 90, 90)>\n",
       "    totcol_msr                         (time, lat, lon) float32 dask.array<shape=(1702, 720, 1440), chunksize=(184, 90, 90)>\n",
       "    transpiration                      (time, lat, lon) float32 dask.array<shape=(1702, 720, 1440), chunksize=(184, 90, 90)>\n",
       "    water_mask                         (time, lat, lon) float32 dask.array<shape=(1702, 720, 1440), chunksize=(184, 90, 90)>\n",
       "    water_vapour                       (time, lat, lon) float32 dask.array<shape=(1702, 720, 1440), chunksize=(184, 90, 90)>\n",
       "    white_sky_albedo                   (time, lat, lon) float32 dask.array<shape=(1702, 720, 1440), chunksize=(184, 90, 90)>\n",
       "    white_sky_albedo_avhrr             (time, lat, lon) float32 dask.array<shape=(1702, 720, 1440), chunksize=(184, 90, 90)>\n",
       "    xch4                               (time, lat, lon) float64 dask.array<shape=(1702, 720, 1440), chunksize=(184, 90, 90)>\n",
       "    xco2                               (time, lat, lon) float64 dask.array<shape=(1702, 720, 1440), chunksize=(184, 90, 90)>\n",
       "Attributes:\n",
       "    Metadata_conventions :     Unidata Dataset Discovery v1.0\n",
       "    acknowledgment:            The ESDL team acknowledges all data providers! \n",
       "    chunking:                  1x720x1440\n",
       "    comment:                   none. \n",
       "    contributor_name:          Max Planck Institute for Biogeochemistry\n",
       "    contributor_role:          ESDL Science Lead \n",
       "    creator_email:             info@earthsystemdatalab.net\n",
       "    creator_name:              Brockmann Consult GmbH \n",
       "    creator_url:               www.earthsystemdatalab.net\n",
       "    date_created:              17.12.2018\n",
       "    date_issued:               19.12.2018\n",
       "    date_modified:             17.12.2018\n",
       "    geospatial_lat_max:        89.75\n",
       "    geospatial_lat_min:        -89.75\n",
       "    geospatial_lon_max:        179.75\n",
       "    geospatial_lon_min:        -179.75\n",
       "    geospatial_resolution:     1/4deg\n",
       "    history:                   - processing with esdl cube v0.1  (https://git...\n",
       "    id:                        v2.0.0\n",
       "    institution:               Brockmann Consult GmbH \n",
       "    keywords:                  Earth Science, Geophysical Variables\n",
       "    license:                   Please refer to individual variables\n",
       "    naming_authority:          Earth System Data Lab team\n",
       "    processing_level:          Level 4\n",
       "    project:                   ESA Earth System Data Lab \n",
       "    publisher_email:           info@earthsystemdatalab.net\n",
       "    publisher_name:            Brockmann Consult GmbH & Max Planck Institute ...\n",
       "    publisher_url:             www.brockmann-consult.de\n",
       "    standard_name_vocabulary:  CF-1.7\n",
       "    summary:                   This data set contains a data cube of Earth Sy...\n",
       "    time_coverage_duration:    P37Y\n",
       "    time_coverage_end:         30.12.2016\n",
       "    time_coverage_resolution:  P8D\n",
       "    time_coverage_start:       05.01.1980\n",
       "    title:                     Earth System Data Cube"
      ]
     },
     "execution_count": 3,
     "metadata": {},
     "output_type": "execute_result"
    }
   ],
   "source": [
    "ESDC"
   ]
  },
  {
   "cell_type": "code",
   "execution_count": 4,
   "metadata": {},
   "outputs": [],
   "source": [
    "# Create a variable 'vars_monthly', and save temporally resampled (to monthly) data to the variable\n",
    "vars_monthly = {'mask': ESDC['mask'].sel(time='2010-01-01',method='nearest'),\n",
    "                'fapar': ESDC['fapar_tip'].resample(time = '1M',keep_attrs = True).mean('time', skipna = True),\n",
    "                'soil_moisture': ESDC['soil_moisture'].resample(time = '1M',keep_attrs = True).mean(dim = 'time', skipna = True),\n",
    "                'precipitation': ESDC['precipitation'].resample(time = '1M',keep_attrs = True).sum('time'),\n",
    "                'pevapotranspiration': ESDC['potential_evaporation'].resample(time = '1M',keep_attrs = True).sum('time') + ESDC['transpiration'].resample(time = '1M',keep_attrs = True).sum('time')}"
   ]
  },
  {
   "cell_type": "code",
   "execution_count": 5,
   "metadata": {},
   "outputs": [],
   "source": [
    "# Calculate alpha and beta variables to fit gamma distribution. Also, calculate probabilty of zero in the time series.\n",
    "\n",
    "def spi_gamma_params(data_monthly,spi_window,dtype):\n",
    "    \n",
    "# Select data for calibration and analysis periods. As the data span is low for PE and T, select same 10-year window for both.\n",
    "    start_calib = pd.to_datetime('2004-01-31')\n",
    "    end_calib = pd.to_datetime('2013-12-31')\n",
    "    \n",
    "    start_analysis = '2004-01-31'\n",
    "    end_analysis = '2013-12-31'\n",
    "    \n",
    "# For some reason, rolling method crashes, for long timespans. Hence, shorten the timespan for the raw data.\n",
    "    slice_for_rolling_start = '2002-12-31'\n",
    "    slice_for_rolling_end = '2015-01-01'\n",
    "    data_monthly = data_monthly.loc[dict(time=slice(slice_for_rolling_start, slice_for_rolling_end))]\n",
    "\n",
    "    print(dtype+' calculating rolling sum with '+str(spi_window)+'-month running window')\n",
    "    \n",
    "# If the european spatial subset is not used, calculate the rolling sum for eastern and western parts of the globe separately.\n",
    "    if 'euro' not in dtype:\n",
    "        data_monhtly_east = data_monthly.sel(lon = slice(0,180))\n",
    "        data_monthly_west = data_monthly.sel(lon = slice(-180.,0))\n",
    "        data_window_east = data_monhtly_east.rolling(time=spi_window ,center=False).sum()\n",
    "        print(dtype+' east')\n",
    "        data_window_west = data_monthly_west.rolling(time=spi_window ,center=False).sum()\n",
    "        print(dtype+' west')\n",
    "        data_window = xr.concat((data_window_west,data_window_east),dim = 'lon')\n",
    "        print(data_window)\n",
    "        \n",
    "        \n",
    "    elif 'euro' in dtype:\n",
    "        data_window = data_monthly.rolling(time=spi_window ,center=False).sum()\n",
    "\n",
    "# Select the time slice, as defined above.\n",
    "    data_window_analysis = data_window.loc[dict(time=slice(start_analysis, end_analysis))]\n",
    "    data_window = data_window.loc[dict(time=slice(start_calib, end_calib))]\n",
    "                 \n",
    "    #print(data_window.shape)\n",
    "    #plt.imshow(data_window[7,:,:])\n",
    "    #plt.colorbar()\n",
    "    #plt.show()\n",
    "\n",
    "\n",
    "    print(dtype+' calculating parameters for gamma distribution')\n",
    "    \n",
    "# Calculate parameters for SPI and SPEI following https://www.drought.gov/drought/climate-and-drought-indices-python\n",
    "# Calculate likelihood of zero\n",
    "    zeros_N = (data_window == 0).groupby('time.month').sum('time')\n",
    "    zeros_P = zeros_N / (data_window.sizes['time']/12.0)\n",
    "# Change values <= zero to NaN\n",
    "    data_window = data_window.where(data_window > 0)\n",
    "    \n",
    "# Calculate the mean for each month.\n",
    "    data_window_monthly_mean = data_window.groupby('time.month').mean(dim='time', skipna = True)\n",
    "# Log-transform for monthly means.\n",
    "    data_window_monthly_mean_log = xr.apply_ufunc(np.log, data_window_monthly_mean, dask = 'allowed')\n",
    "    \n",
    "# Log-transform the data.\n",
    "    data_window_log = xr.apply_ufunc(np.log, data_window, dask = 'allowed')\n",
    "# Calculate the mean of the log-transformed values.\n",
    "    data_window_log_monthly_mean = data_window_log.groupby('time.month').mean(dim='time', skipna = True)\n",
    "    \n",
    "# Calculate A, alpha and beta, again following https://www.drought.gov/drought/climate-and-drought-indices-python\n",
    "    A = data_window_monthly_mean_log - data_window_log_monthly_mean    \n",
    "    alphas = (1 + xr.apply_ufunc(np.sqrt,(1 + 4 * A / 3), dask = 'allowed')) / (4 * A)\n",
    "    betas = data_window_monthly_mean / alphas\n",
    "\n",
    "    return alphas.values, betas.values, zeros_P.values, data_window_analysis\n"
   ]
  },
  {
   "cell_type": "code",
   "execution_count": 6,
   "metadata": {},
   "outputs": [],
   "source": [
    "def spi_fit_gamma_distribution(array,alpha,beta):\n",
    "\n",
    "    prob_lon = np.zeros(array.shape)\n",
    "\n",
    "# For each cell, fit a gamma distribtion, based on the alpha and beta values.\n",
    "# If all values in the a cell are NaN, skip those cells.\n",
    "    for lon in range(0,array.shape[1]):\n",
    "        if np.isnan(array[:,lon]).all():\n",
    "            prob_lon[:,lon] = np.nan\n",
    "        else:\n",
    "            prob_lon[:,lon] = scipy.stats.gamma.cdf(array[:,lon],a = alpha[lon],scale = beta[lon])\n",
    "            \n",
    "    return prob_lon"
   ]
  },
  {
   "cell_type": "code",
   "execution_count": 7,
   "metadata": {},
   "outputs": [],
   "source": [
    "def spi_calculate(data_monthly,spi_window,dtype):\n",
    "    time_st = time.time()\n",
    "    \n",
    "# Based on 'dtype' parameter, select the appropriate information from data_monthly (either SPI or SPEI here).\n",
    "    if 'spei' in dtype:\n",
    "        # Add 100, to the (p - pet), to avoid below zero values, similarly to https://www.drought.gov/drought/climate-and-drought-indices-python\n",
    "        p_monthly = data_monthly['precipitation']\n",
    "        pet_monthly = data_monthly['pevapotranspiration']\n",
    "        data_monthly = p_monthly - pet_monthly + 100\n",
    "    elif 'spi' in dtype:\n",
    "        data_monthly = data_monthly['precipitation']\n",
    "\n",
    "# Select europe from the data (for testing purposes).\n",
    "    if 'euro' in dtype:\n",
    "        data_monthly = data_monthly.sel(lat = slice(70.,30.), lon = slice(-20.,35.))\n",
    "    \n",
    "# Rechunk data, so that it's possible to use the rolling function.\n",
    "    data_monthly = data_monthly.chunk({'lat': 10, 'lon': 10, 'time': data_monthly.sizes['time']})\n",
    "    \n",
    "# Get parameters for gamma distribution.\n",
    "    alphas, betas, zeros_P, data_window = spi_gamma_params(data_monthly,spi_window,dtype)\n",
    "    probability = np.zeros((data_window.sizes['time'],data_window.sizes['lat'],data_window.sizes['lon']))\n",
    "        \n",
    "    print(str(time.time()-time_st)+' seconds passed - entering loop going through each month')# \\nMonth number :')\n",
    "    \n",
    "# Fit gamma distribution for each month, latitude and longitude separately.\n",
    "    for month in range(1,13):\n",
    "        #print(month)\n",
    "# Select the monthly values.\n",
    "        month_boolean = data_window['time.month'] == month\n",
    "        data_window_month_np = data_window[month_boolean,:,:].values\n",
    "        alpha_monthly = alphas[month-1,:,:]\n",
    "        beta_monthly = betas[month-1,:,:]\n",
    "        \n",
    "        for lat in range(0,data_window.sizes['lat']):\n",
    "            data_window_month_lat = data_window_month_np[:,lat,:]\n",
    "            alpha = alpha_monthly[lat,:]\n",
    "            beta = beta_monthly[lat,:]\n",
    "# Obtain probabilities by fitting to gamma distribution.\n",
    "            probability_temp = spi_fit_gamma_distribution(data_window_month_lat,alpha,beta)\n",
    "            probability[month_boolean,lat,:] = probability_temp\n",
    "# Account for zero probability.\n",
    "        zeros_P_month = zeros_P[month-1,:,:]\n",
    "        probability[month_boolean,:,:] =  zeros_P_month + ((1 - zeros_P_month) * probability[month_boolean])\n",
    "\n",
    "# Probabilities to normal distribution standard deviations.\n",
    "    index = scipy.stats.norm.ppf(probability)\n",
    "    \n",
    "# Create a xarray DataArray from the numpy array.\n",
    "    data_xarray = xr.DataArray(index,\n",
    "                               dims = ('time','lat','lon'),\n",
    "                               coords = {'time': data_window['time'].values,\n",
    "                                       'lat': data_window['lat'].values,\n",
    "                                       'lon': data_window['lon'].values,\n",
    "                                       })\n",
    "# Mask land and save as netcdf\n",
    "    data_xarray = data_xarray.where(vars_monthly['mask']==2)\n",
    "    data_xarray.to_netcdf(dtype+'.nc')\n",
    "    \n",
    "    print(str(time.time()-time_st)+' seconds passed for whole show - thank you!')\n",
    "    \n",
    "    #return index"
   ]
  },
  {
   "cell_type": "code",
   "execution_count": 8,
   "metadata": {},
   "outputs": [],
   "source": [
    "def anom_calculate(data_monthly,dtype):\n",
    "    \n",
    "# Select europe from the data (for testing purposes).\n",
    "    if 'euro' in dtype:\n",
    "        data_monthly = data_monthly.sel(lat = slice(70.,30.), lon = slice(-20.,35.))\n",
    "    \n",
    "# Rechunk data.\n",
    "    data_monthly = data_monthly.chunk({'lat': data_monthly.sizes['lat'], 'lon': data_monthly.sizes['lon'], 'time': 1})\n",
    "# Interpolate data to get coverage for the whole world.\n",
    "# Interpolation conducted by first interpolating along latitude and then longitude (not an optimal, but could not find a better way to do it using xarray).\n",
    "    data_monthly = data_monthly.interpolate_na(dim = 'lon', method='linear')\n",
    "    data_monthly = data_monthly.isel(lat=slice(None, None, -1)).interpolate_na(dim = 'lat', method='linear').isel(lat=slice(None, None, -1))\n",
    "\n",
    "# Select data for calibration and analysis periods. As the data span is low for PE and T, select same 10-year window for both.\n",
    "    start_calib = '2004-01-31'\n",
    "    end_calib = '2013-12-31'\n",
    "    start_analysis = '2004-01-31'\n",
    "    end_analysis = '2013-12-31'\n",
    "    \n",
    "    data_analysis = data_monthly.loc[dict(time=slice(start_analysis, end_analysis))]\n",
    "    data = data_monthly.loc[dict(time=slice(start_calib, end_calib))]\n",
    "    \n",
    "# Calculate the monthly z-score anomaly.\n",
    "    mean_month = data.groupby('time.month').mean('time')\n",
    "    std_month = data.groupby('time.month').std('time')\n",
    "    monthly_zscore = xr.apply_ufunc(lambda val, mean, std: (val - mean)/std, data_analysis.groupby('time.month'), mean_month, std_month, dask='allowed')\n",
    "    \n",
    "# Mask land data.\n",
    "    monthly_zscore = monthly_zscore.where(vars_monthly['mask']==2)\n",
    "    \n",
    "# Save into netcdf.\n",
    "    monthly_zscore.to_netcdf(dtype+'.nc')\n",
    "    "
   ]
  },
  {
   "cell_type": "code",
   "execution_count": 9,
   "metadata": {},
   "outputs": [],
   "source": [
    "# Calculate 3-month and 12-month SPI and SPEI by\n",
    "# Parallelize into four cores.\n",
    "# Save the indices as netcdf files.\n",
    "\n",
    "pool = mp.Pool(processes = 4)\n",
    "p = pool.starmap(spi_calculate,[(vars_monthly, 3, 'spi_3_month'),\n",
    "                                (vars_monthly, 3,'spei_3_month'),\n",
    "                                (vars_monthly, 12,'spi_12_month'),\n",
    "                                (vars_monthly,12,'spei_12_month')])\n",
    "pool.close()"
   ]
  },
  {
   "cell_type": "code",
   "execution_count": 10,
   "metadata": {},
   "outputs": [],
   "source": [
    "# Calculate drought indices for soil moisture and fapar, based on the functions described above.\n",
    "# Save the calculations as netcdf files.\n",
    "\n",
    "anom_calculate(vars_monthly['soil_moisture'],'soil_moisture_anom')\n",
    "anom_calculate(vars_monthly['fapar'],'fapar_anom')"
   ]
  },
  {
   "cell_type": "code",
   "execution_count": 10,
   "metadata": {},
   "outputs": [],
   "source": [
    "# Below this cell, only additional visualizationd and checks etc.."
   ]
  },
  {
   "cell_type": "code",
   "execution_count": null,
   "metadata": {},
   "outputs": [
    {
     "name": "stdout",
     "output_type": "stream",
     "text": [
      "<xarray.DataArray (time: 120, lat: 720, lon: 1440)>\n",
      "array([[[      nan,       nan, ...,       nan,       nan],\n",
      "        [      nan,       nan, ...,       nan,       nan],\n",
      "        ...,\n",
      "        [ 1.607234,  1.607234, ...,  1.608042,  1.608042],\n",
      "        [ 1.607234,  1.607234, ...,  1.608042,  1.608042]],\n",
      "\n",
      "       [[      nan,       nan, ...,       nan,       nan],\n",
      "        [      nan,       nan, ...,       nan,       nan],\n",
      "        ...,\n",
      "        [ 1.265896,  1.265896, ...,  1.267162,  1.267162],\n",
      "        [ 1.265896,  1.265896, ...,  1.267162,  1.267162]],\n",
      "\n",
      "       ...,\n",
      "\n",
      "       [[      nan,       nan, ...,       nan,       nan],\n",
      "        [      nan,       nan, ...,       nan,       nan],\n",
      "        ...,\n",
      "        [-0.605662, -0.605662, ..., -0.605815, -0.605815],\n",
      "        [-0.605662, -0.605662, ..., -0.605815, -0.605815]],\n",
      "\n",
      "       [[      nan,       nan, ...,       nan,       nan],\n",
      "        [      nan,       nan, ...,       nan,       nan],\n",
      "        ...,\n",
      "        [-0.753407, -0.753407, ..., -0.753223, -0.753223],\n",
      "        [-0.753407, -0.753407, ..., -0.753223, -0.753223]]], dtype=float32)\n",
      "Coordinates:\n",
      "  * time     (time) datetime64[ns] 2004-01-31 2004-02-29 ... 2013-12-31\n",
      "  * lat      (lat) float32 89.875 89.625 89.375 ... -89.375 -89.625 -89.875\n",
      "  * lon      (lon) float64 -179.9 -179.6 -179.4 -179.1 ... 179.4 179.6 179.9\n"
     ]
    },
    {
     "data": {
      "application/vnd.jupyter.widget-view+json": {
       "model_id": "2baa48c73a594633a78814684174431e",
       "version_major": 2,
       "version_minor": 0
      },
      "text/plain": [
       "interactive(children=(DatePicker(value=None, description='Pick a Date'), Output()), _dom_classes=('widget-inte…"
      ]
     },
     "metadata": {},
     "output_type": "display_data"
    }
   ],
   "source": [
    "filename = 'spi_3_month.nc'\n",
    "drought_index = xr.open_dataarray(filename)\n",
    "print(drought_index)\n",
    "\n",
    "def plot_image(ds,time_index='2009-11-08'):\n",
    "    #fig = plt.figure()\n",
    "    ccmap = plt.cm.jet_r\n",
    "    vmin = -3.19\n",
    "    vmax = 3.19\n",
    "    ds = ds.sel(time=time_index,method='nearest').plot(vmin = vmin, vmax = vmax, cmap = ccmap)\n",
    "\n",
    "    #ds = ds[time_index,:,:]\n",
    "    #im = plt.imshow(ds,cmap=ccmap,vmin = vmin, vmax=vmax)\n",
    "    #cb = plt.colorbar()\n",
    "\n",
    "date = DatePicker(\n",
    "    description='Pick a Date',\n",
    "    disabled=False\n",
    ")\n",
    "\n",
    "interact(plot_image, ds = fixed(drought_index), time_index=date)"
   ]
  },
  {
   "cell_type": "code",
   "execution_count": 19,
   "metadata": {},
   "outputs": [
    {
     "data": {
      "text/plain": [
       "<matplotlib.collections.QuadMesh at 0x7f99cb879390>"
      ]
     },
     "execution_count": 19,
     "metadata": {},
     "output_type": "execute_result"
    },
    {
     "data": {
      "image/png": "[encoded data removed]",
      "text/plain": [
       "<Figure size 432x288 with 2 Axes>"
      ]
     },
     "metadata": {},
     "output_type": "display_data"
    }
   ],
   "source": [
    "xr.apply_ufunc(np.isnan, vars_monthly['soil_moisture'], dask = 'allowed').sel(time='2011-11-01',method='nearest').plot()"
   ]
  },
  {
   "cell_type": "code",
   "execution_count": null,
   "metadata": {},
   "outputs": [],
   "source": [
    "vars_monthly['soil_moisture'] = vars_monthly['soil_moisture'].chunk({'lat': vars_monthly['soil_moisture'].sizes['lat'], 'lon': vars_monthly['soil_moisture'].sizes['lon'], 'time': 1})\n",
    "\n",
    "vars_monthly['soil_moisture'].interpolate_na(dim = 'lon', method='linear').where(vars_monthly['mask']==2).sel(time='2003-12-01',method='nearest').plot()"
   ]
  },
  {
   "cell_type": "code",
   "execution_count": 26,
   "metadata": {},
   "outputs": [
    {
     "data": {
      "text/plain": [
       "<matplotlib.collections.QuadMesh at 0x7f10098e4d68>"
      ]
     },
     "execution_count": 26,
     "metadata": {},
     "output_type": "execute_result"
    },
    {
     "data": {
      "image/png": "[encoded data removed]",
      "text/plain": [
       "<Figure size 432x288 with 2 Axes>"
      ]
     },
     "metadata": {},
     "output_type": "display_data"
    }
   ],
   "source": [
    "vars_monthly['soil_moisture'] = vars_monthly['soil_moisture'].chunk({'lat': vars_monthly['soil_moisture'].sizes['lat'], 'lon': vars_monthly['soil_moisture'].sizes['lon'], 'time': 1})\n",
    "vars_monthly['soil_moisture'].interpolate_na(dim = 'lon', method='linear').where(vars_monthly['mask']==2).sel(time='2003-11-01',method='nearest').plot()\n",
    "#A = vars_monthly['soil_moisture'].fillna(0).interp(lon=lon, lat=lat, method = 'nearest')"
   ]
  },
  {
   "cell_type": "code",
   "execution_count": 22,
   "metadata": {},
   "outputs": [],
   "source": [
    "vars_monthly['fapar'] = vars_monthly['fapar'].chunk({'lat': vars_monthly['fapar'].sizes['lat'], 'lon': vars_monthly['fapar'].sizes['lon'], 'time': 1})\n",
    "\n",
    "vars_monthly['fapar'].interpolate_na(dim = 'lon', method='linear').where(vars_monthly['mask']==2).sel(time='2003-11-01',method='nearest').plot()"
   ]
  },
  {
   "cell_type": "code",
   "execution_count": null,
   "metadata": {},
   "outputs": [],
   "source": []
  }
 ],
 "metadata": {
  "kernelspec": {
   "display_name": "Python 3",
   "language": "python",
   "name": "python3"
  },
  "language_info": {
   "codemirror_mode": {
    "name": "ipython",
    "version": 3
   },
   "file_extension": ".py",
   "mimetype": "text/x-python",
   "name": "python",
   "nbconvert_exporter": "python",
   "pygments_lexer": "ipython3",
   "version": "3.7.3"
  }
 },
 "nbformat": 4,
 "nbformat_minor": 2
}
